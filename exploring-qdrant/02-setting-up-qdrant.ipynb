{
 "cells": [
  {
   "cell_type": "markdown",
   "metadata": {},
   "source": [
    "# Getting Started with Qdrant\n",
    "\n",
    "In the first post of this series, I discussed the role that vector databases play in RAG workflows.\n",
    "\n",
    "I also talked about what you should consider when choosing a vector database and why I like Qdrant. In this post, I'll show you how to get up and running with Qdrant so that we can start doing some awesome stuff in future blogs. First things first, go and sign up for a [cloud account](https://qdrant.tech). You should get in the habit of working with a remote vector database. \n",
    "\n",
    "\n",
    "- Setup an account\n",
    "\n",
    "- Get your API Keys\n",
    "\n",
    "- Setup a Cluster\n",
    "\n",
    "- Setup Python Enviornment"
   ]
  }
 ],
 "metadata": {
  "language_info": {
   "name": "python"
  }
 },
 "nbformat": 4,
 "nbformat_minor": 2
}
