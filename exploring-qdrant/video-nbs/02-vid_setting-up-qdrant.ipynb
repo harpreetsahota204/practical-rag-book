{
 "cells": [
  {
   "cell_type": "markdown",
   "metadata": {},
   "source": [
    "## Setting Up Qdrant: A Step-by-Step Guide \n",
    "\n",
    "Hey there! Welcome to the exciting world of vector databases and Retrieval Augmented Generation (RAG). In this guide, we'll walk you through setting up Qdrant, a powerful vector database, so you can start building amazing context-aware applications. \n",
    "\n",
    "Whether you prefer the convenience of the cloud or the control of a local setup, we've got you covered. Let's dive in!\n",
    "\n",
    "### ☁️  Qdrant Cloud: The Easy Route\n",
    "\n",
    "Qdrant Cloud offers a managed service, taking the hassle out of infrastructure management. Here's how to get started:\n",
    "\n",
    "1. **Sign Up:** Head over to [Qdrant Cloud](https://qdrant.tech) and create your free account. The free tier is perfect for development and testing. \n",
    "\n",
    "2. **Create a Cluster:**\n",
    "   - Go to the \"Clusters\" section in the sidebar.\n",
    "   - Click \"Create\" and name your cluster (e.g., \"practical-rag\").\n",
    "   - Hit \"Create Cluster\" and wait for it to spin up.\n",
    "\n",
    "3. **Get API Key and URL:**\n",
    "   - In the \"Clusters\" section, click the right arrow (>) next to your cluster name.\n",
    "   - Find and copy the \"Cluster URL\" and click the red \"Get API Key\" button to copy your API key. Keep these safe!\n",
    "\n",
    "4. **Set Environment Variables:**  (Optional but recommended)\n",
    "   - Open your terminal and run:\n",
    "\n",
    "   ```bash\n",
    "   export QDRANT_API_KEY=<your-api-key>\n",
    "   export QDRANT_URL=<your-qdrant-cloud-url>\n",
    "\n",
    "##### 📝 Note\n",
    "\n",
    "When you set environment variables like `QDRANT_API_KEY` and `QDRANT_URL` using the `export` command, they only stick around for your current terminal session. As soon as you close the terminal window or start a new session, those variables are gone like a magician's rabbit!\n",
    "\n",
    "If you want your environment variables to be available every time you open a terminal, you have options:\n",
    "\n",
    "*   **`.bashrc` or `.zshrc`:** Add the `export` commands to your shell's configuration file (`.bashrc` for Bash, `.zshrc` for Zsh). This will load the variables automatically when you start a new terminal session. \n",
    "\n",
    "Alternatively, store them in a `.env` file for easy access in your code:\n",
    "\n",
    "**`.env` file:** Store your variables in a `.env` file and use a library like `python-dotenv` to load them into your Python environment. This is a common practice for keeping sensitive information like API keys out of your code. \n",
    "\n",
    "\n",
    "   ```bash\n",
    "   echo \"QDRANT_API_KEY=$QDRANT_API_KEY\" >> .env && echo \"QDRANT_URL=$QDRANT_URL\" >> .env\n",
    "   ```\n",
    "\n",
    "### 💻  Local Setup: For the Hands-On Developer\n",
    "\n",
    "If you prefer a local setup, follow these steps:\n",
    "\n",
    "1. **Install Docker:** Ensure you have Docker installed and running on your system. \n",
    "\n",
    "2. **Download Qdrant Image:** Open your terminal and run:\n",
    "\n",
    "   ```bash\n",
    "   docker pull qdrant/qdrant\n",
    "   ```\n",
    "\n",
    "3. **Run Qdrant:**\n",
    "\n",
    "   ```bash\n",
    "   docker run -p 6333:6333 -p 6334:6334 \\\n",
    "       -v $(pwd)/qdrant_storage:/qdrant/storage:z \\\n",
    "       qdrant/qdrant\n",
    "   ```\n",
    "\n",
    "   This command starts Qdrant and makes it accessible at `localhost:6333` (REST API and Web UI) and `localhost:6334` (gRPC API). Data will be stored in the `./qdrant_storage` directory.\n",
    "\n",
    "### 🛠️  Development Environment Setup\n",
    "\n",
    "1. **Create a Virtual Environment:** (Recommended)\n",
    "\n",
    "   ```bash\n",
    "   conda create -n p_rag python=3.10\n",
    "   conda activate p_rag  # Activate the environment\n",
    "   ```\n",
    "\n",
    "2. **Install Dependencies:**\n",
    "\n",
    "   ```bash\n",
    "   pip install python-dotenv==1.0.1 qdrant-client==1.9.0 openai==1.23.6 transformers==4.40.1 sentence-transformers==2.7.0 datasets==2.19.0\n",
    "   ```\n",
    "\n",
    "These libraries will enable you to interact with Qdrant, work with embeddings, and handle data. "
   ]
  },
  {
   "cell_type": "code",
   "execution_count": 1,
   "metadata": {},
   "outputs": [
    {
     "data": {
      "text/plain": [
       "True"
      ]
     },
     "execution_count": 1,
     "metadata": {},
     "output_type": "execute_result"
    }
   ],
   "source": [
    "import os\n",
    "from dotenv import load_dotenv\n",
    "\n",
    "from qdrant_client import QdrantClient\n",
    "\n",
    "load_dotenv('.env')"
   ]
  },
  {
   "cell_type": "code",
   "execution_count": 2,
   "metadata": {},
   "outputs": [],
   "source": [
    "client = QdrantClient(\n",
    "    url=os.getenv('QDRANT_URL'),\n",
    "    api_key=os.getenv('QDRANT_API_KEY')\n",
    ")"
   ]
  },
  {
   "cell_type": "markdown",
   "metadata": {},
   "source": [
    "Run the following code, and notice that our list of collections is empty. As it should be, because you haven't created one yet."
   ]
  },
  {
   "cell_type": "code",
   "execution_count": 3,
   "metadata": {},
   "outputs": [
    {
     "data": {
      "text/plain": [
       "CollectionsResponse(collections=[])"
      ]
     },
     "execution_count": 3,
     "metadata": {},
     "output_type": "execute_result"
    }
   ],
   "source": [
    "client.get_collections()"
   ]
  },
  {
   "cell_type": "markdown",
   "metadata": {},
   "source": [
    "## 🧠 Collection Creation: Key Points to Remember  \n",
    "\n",
    "*   **Points are the Building Blocks:** Collections in Qdrant are all about storing and managing *points*. Each point is like a little package containing two main things:\n",
    "\n",
    "    *  🔢 **Vector:** This is your data transformed into an array of numbers (like a secret code for your text, image, or whatever you're storing). \n",
    "\n",
    "    * 📝 **Payload:** Think of this as a sticky note attached to your vector, holding extra info about your data (metadata). \n",
    "\n",
    "*  🧲 **Similarity is Key:** All points in a collection must have vectors of the same size and use the same distance metric (like cosine similarity). This lets you find similar points quickly. \n",
    "\n",
    "*   **Decisions, Decisions:** Before creating a collection, you need to figure out:\n",
    "\n",
    "    * 🐱‍💻  **Data Type:** What kind of data are you working with? Text, images, cat videos? \n",
    "\n",
    "    *   **Vector Size & Distance:** This depends on your embedding model and how you want to measure similarity.\n",
    "\n",
    "    *   **Payload Content:** What extra info do you want to store with each point?\n",
    "\n",
    "*  📚 **Text Time!**  For the next few projects, we'll be focusing on text data, using OpenAI's `text-embedding-3-large` model (which has a vector size of 3072) and cosine similarity. "
   ]
  },
  {
   "cell_type": "code",
   "execution_count": 4,
   "metadata": {},
   "outputs": [
    {
     "data": {
      "text/plain": [
       "True"
      ]
     },
     "execution_count": 4,
     "metadata": {},
     "output_type": "execute_result"
    }
   ],
   "source": [
    "from qdrant_client.http import models\n",
    "\n",
    "collection_config = models.VectorParams(\n",
    "    size=3072,\n",
    "    distance=models.Distance.COSINE\n",
    ")\n",
    "\n",
    "client.create_collection(\n",
    "    collection_name=\"p_rag_series_1\",\n",
    "    vectors_config=collection_config\n",
    ")"
   ]
  },
  {
   "cell_type": "markdown",
   "metadata": {},
   "source": [
    "And now you can verify that the collection has been created by running `client.get_collections()` or through the UI:\n"
   ]
  },
  {
   "cell_type": "code",
   "execution_count": 5,
   "metadata": {},
   "outputs": [
    {
     "data": {
      "text/plain": [
       "CollectionsResponse(collections=[CollectionDescription(name='p_rag_series_1')])"
      ]
     },
     "execution_count": 5,
     "metadata": {},
     "output_type": "execute_result"
    }
   ],
   "source": [
    "client.get_collections()"
   ]
  },
  {
   "cell_type": "markdown",
   "metadata": {},
   "source": [
    "Let's go ahead and delete this collection, just to demonstrate how."
   ]
  },
  {
   "cell_type": "code",
   "execution_count": 6,
   "metadata": {},
   "outputs": [
    {
     "data": {
      "text/plain": [
       "True"
      ]
     },
     "execution_count": 6,
     "metadata": {},
     "output_type": "execute_result"
    }
   ],
   "source": [
    "client.delete_collection(collection_name=\"p_rag_series_1\")"
   ]
  },
  {
   "cell_type": "markdown",
   "metadata": {},
   "source": [
    "Now, go ahead and close the client down."
   ]
  },
  {
   "cell_type": "code",
   "execution_count": 7,
   "metadata": {},
   "outputs": [],
   "source": [
    "client.close()"
   ]
  },
  {
   "cell_type": "markdown",
   "metadata": {},
   "source": [
    "We're about to dive into some cool ways to use vectors and vector search with Qdrant - since the book and this series has multimodality as a them, it's worth calling out that Qdrant can handle different types of data and managing multiple users. Let's take a quick look!\n",
    "\n",
    "### 🗃️ 1. Named Vectors: Organizing Your Data \n",
    "\n",
    "*   Imagine you have a collection that's like a big box where you can store different kinds of things. Named vectors are like dividers in that box, helping you keep things organized.\n",
    "\n",
    "*  🖼️ 📝 You can have different named vectors for different types of data, like one for images (\"image\\_vector\") and another for text (\"text\\_vector\"). \n",
    "\n",
    "*   Each named vector can have its own size (dimensionality) and distance metric, depending on the type of data it holds.\n",
    "\n",
    "*   This is super useful when you're working with diverse data and need to compare similar items within each category.\n",
    "\n",
    "### 🤝 2. Multitenancy: Sharing is Caring (Sometimes) \n",
    "\n",
    "*   Think of multitenancy as having multiple users sharing the same Qdrant instance, like roommates sharing an apartment. \n",
    "\n",
    "*   You can either have everyone share the same collection (like a shared kitchen) or give each user their own separate collection (like private bedrooms).\n",
    "\n",
    "*   Sharing a collection is efficient but requires careful management to ensure data privacy. You'll need to add user IDs to the payload and filter data accordingly.\n",
    "\n",
    "*   Separate collections offer better isolation but can be less efficient and harder to manage as the number of users grows.\n",
    "\n",
    "**In this series, we'll keep things simple and focus on using a single collection.**  But it's good to know that Qdrant has options for more complex scenarios!"
   ]
  }
 ],
 "metadata": {
  "kernelspec": {
   "display_name": "p_rag",
   "language": "python",
   "name": "python3"
  },
  "language_info": {
   "codemirror_mode": {
    "name": "ipython",
    "version": 3
   },
   "file_extension": ".py",
   "mimetype": "text/x-python",
   "name": "python",
   "nbconvert_exporter": "python",
   "pygments_lexer": "ipython3",
   "version": "3.10.0"
  }
 },
 "nbformat": 4,
 "nbformat_minor": 2
}
